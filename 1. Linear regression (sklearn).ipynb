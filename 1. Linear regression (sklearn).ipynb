{
  "nbformat": 4,
  "nbformat_minor": 0,
  "metadata": {
    "colab": {
      "provenance": [],
      "authorship_tag": "ABX9TyOUHXiXGgZaq92uN7ppQLOJ",
      "include_colab_link": true
    },
    "kernelspec": {
      "name": "python3",
      "display_name": "Python 3"
    },
    "language_info": {
      "name": "python"
    }
  },
  "cells": [
    {
      "cell_type": "markdown",
      "metadata": {
        "id": "view-in-github",
        "colab_type": "text"
      },
      "source": [
        "<a href=\"https://colab.research.google.com/github/dymsson/machine-learning-basics/blob/main/1.%20Linear%20regression%20(sklearn).ipynb\" target=\"_parent\"><img src=\"https://colab.research.google.com/assets/colab-badge.svg\" alt=\"Open In Colab\"/></a>"
      ]
    },
    {
      "cell_type": "code",
      "execution_count": null,
      "metadata": {
        "id": "oitjzq_erPW5"
      },
      "outputs": [],
      "source": [
        "import numpy as np\n",
        "import pandas as pd\n",
        "from sklearn.linear_model import LinearRegression"
      ]
    },
    {
      "cell_type": "code",
      "source": [
        "# read dataframe from csv\n",
        "df = pd.read_csv('Novosibirsk real estate data.csv')"
      ],
      "metadata": {
        "id": "LGrZCNPTeVXu"
      },
      "execution_count": null,
      "outputs": []
    },
    {
      "cell_type": "code",
      "source": [
        "# change column type astype('int/float64') - ID продавца\n",
        "\n",
        "# fill missing values str.replace - ID покупателя\n",
        "\n",
        "# remap values in pandas column with a dict map({dictionary}) - Наличие балкона, Тип ремонта, Тип дома, Наличие лифта\n",
        "\n",
        "# math operations on column - Год постройки\n",
        "\n",
        "# rename columns - Год постройки\n",
        "#df.columns = ['new_col1', 'new_col2', 'new_col3', 'new_col4']\n",
        "\n",
        "# replace text in a string columns - Площадь кв. м., Сумма\n",
        "\n",
        "# create new features using math operations\n",
        "\n",
        "df.head()"
      ],
      "metadata": {
        "id": "xwd2mTX9rXk3"
      },
      "execution_count": null,
      "outputs": []
    },
    {
      "cell_type": "code",
      "source": [
        "# find the average price for apartment\n",
        "\n",
        "# find max age of apartment on the 5th floor\n",
        "\n",
        "# find min square of 2 or 3 room apartment\n",
        "\n",
        "# find max price of more than 70 sq.m. apartment in houses built with Brick\n",
        "\n",
        "# find the average age of apartment with designer renovation and price more or equal than 10 or less than 3 million"
      ],
      "metadata": {
        "id": "StLjmFQgeX7k"
      },
      "execution_count": null,
      "outputs": []
    },
    {
      "cell_type": "code",
      "source": [
        "# convert pandas dataframe to numpy array\n",
        "data = df.to_numpy()\n",
        "# features\n",
        "X\n",
        "# target\n",
        "Y"
      ],
      "metadata": {
        "id": "lwcqVJoqDH0g"
      },
      "execution_count": null,
      "outputs": []
    },
    {
      "cell_type": "code",
      "source": [
        "# train linear regression model (fit(data, target))\n",
        "lr\n",
        "# get model performance (score(data, target))\n",
        "\n",
        "# get model coefficients (weight vector) (coef_)\n",
        "\n",
        "# predict house price (predict)\n"
      ],
      "metadata": {
        "id": "k-R4LdHtLIaK"
      },
      "execution_count": null,
      "outputs": []
    }
  ]
}